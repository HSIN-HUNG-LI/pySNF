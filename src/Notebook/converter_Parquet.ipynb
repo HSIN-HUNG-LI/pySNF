{
 "cells": [
  {
   "cell_type": "code",
   "execution_count": null,
   "id": "b81f2c8d",
   "metadata": {},
   "outputs": [
    {
     "name": "stdout",
     "output_type": "stream",
     "text": [
      "Wrote single file to parq 322499 rows from 322499 file(s) \n"
     ]
    }
   ],
   "source": [
    "\n",
    "from pathlib import Path\n",
    "import pandas as pd\n",
    "project_root = Path.cwd()\n",
    "input_data_file = project_root /\"data\" / \"grid_database_weighted.xlsx\" \n",
    "output_data_file = Path.cwd().resolve().parents[1] /\"data\" / \"grid_database.parq\"\n",
    "# 1) Convert all .csv/.xlsx in the current folder:\n",
    "df = pd.read_excel(input_data_file, engine=\"openpyxl\")\n",
    "df.to_parquet(output_data_file)\n",
    "print(\n",
    "    f\"Wrote single file to parq {df.shape[0]} rows \"\n",
    ")\n",
    "\n",
    "\n"
   ]
  }
 ],
 "metadata": {
  "kernelspec": {
   "display_name": "tkinter_project",
   "language": "python",
   "name": "python3"
  },
  "language_info": {
   "codemirror_mode": {
    "name": "ipython",
    "version": 3
   },
   "file_extension": ".py",
   "mimetype": "text/x-python",
   "name": "python",
   "nbconvert_exporter": "python",
   "pygments_lexer": "ipython3",
   "version": "3.12.4"
  }
 },
 "nbformat": 4,
 "nbformat_minor": 5
}
