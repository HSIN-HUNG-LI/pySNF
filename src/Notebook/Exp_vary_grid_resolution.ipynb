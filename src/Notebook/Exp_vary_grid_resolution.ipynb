{
 "cells": [
  {
   "cell_type": "code",
   "execution_count": 2,
   "id": "51718e2a",
   "metadata": {},
   "outputs": [],
   "source": [
    "import numpy as np\n",
    "import math\n",
    "\n",
    "exp_folder_name = '1821'\n",
    "enrich_factor = int(exp_folder_name[0])\n",
    "sp_factor = int(exp_folder_name[1])\n",
    "bp_factor = int(exp_folder_name[2])\n",
    "cool_factor = int(exp_folder_name[3])\n",
    "\n",
    "enrich_space = np.arange(1.5, 6.1, 0.5)\n",
    "enrich_space = enrich_space[0::enrich_factor]  \n",
    "sp_space = np.arange(5, 46, 5)\n",
    "sp_space = sp_space[0::sp_factor]  \n",
    "burnup_space = np.arange(5000, 74100, 3000)\n",
    "burnup_space = burnup_space[0::bp_factor]  \n",
    "cool_space_raw = np.logspace(-5.75, 6.215, 150, base=math.e)\n",
    "cool_space = cool_space_raw[1::cool_factor]\n",
    "# print(f'enrich_space len = {len(enrich_space)} ***\\n  {enrich_space}')\n",
    "# print(f'sp_space len = {len(sp_space)} ***\\n = {sp_space}')\n",
    "# print(f'burnup_space len = {len(burnup_space)} ***\\n = {burnup_space}')\n",
    "# print(f'cool_space_raw len = {len(cool_space_raw)} ***\\n {cool_space_raw}')\n",
    "# print(f'cool_space len = {len(cool_space)} ***\\n {cool_space}')\n"
   ]
  }
 ],
 "metadata": {
  "kernelspec": {
   "display_name": "pySNF_project (3.13.5)",
   "language": "python",
   "name": "python3"
  },
  "language_info": {
   "codemirror_mode": {
    "name": "ipython",
    "version": 3
   },
   "file_extension": ".py",
   "mimetype": "text/x-python",
   "name": "python",
   "nbconvert_exporter": "python",
   "pygments_lexer": "ipython3",
   "version": "3.13.5"
  }
 },
 "nbformat": 4,
 "nbformat_minor": 5
}
